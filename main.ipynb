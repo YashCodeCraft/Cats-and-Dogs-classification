{
  "nbformat": 4,
  "nbformat_minor": 0,
  "metadata": {
    "colab": {
      "provenance": []
    },
    "kernelspec": {
      "name": "python3",
      "display_name": "Python 3"
    },
    "language_info": {
      "name": "python"
    }
  },
  "cells": [
    {
      "cell_type": "markdown",
      "source": [
        "# Extracting Image"
      ],
      "metadata": {
        "id": "b7I7r5hoCYvX"
      }
    },
    {
      "cell_type": "code",
      "execution_count": null,
      "metadata": {
        "id": "R_7YbjIi_EHG"
      },
      "outputs": [],
      "source": [
        "# Import libs\n",
        "\n",
        "import tensorflow as tf\n",
        "from keras.preprocessing.image import ImageDataGenerator"
      ]
    },
    {
      "cell_type": "code",
      "source": [
        "# Extracting ImageData for TRAIN data\n",
        "\n",
        "imageTRAINgen = ImageDataGenerator(rescale=(1./255), horizontal_flip=True, shear_range=0.2, zoom_range=0.2)\n",
        "training_set = imageTRAINgen.flow_from_directory('/content/drive/MyDrive/DataSets/Cat_and_Dog/train',\n",
        "                                                 batch_size=32, target_size=(64, 64)\n",
        "                                                 , class_mode='binary')"
      ],
      "metadata": {
        "colab": {
          "base_uri": "https://localhost:8080/"
        },
        "id": "igWRnRNtOkbd",
        "outputId": "b79dfe83-ae5f-48e2-c8da-e4e4e5fe62a0"
      },
      "execution_count": null,
      "outputs": [
        {
          "output_type": "stream",
          "name": "stdout",
          "text": [
            "Found 557 images belonging to 2 classes.\n"
          ]
        }
      ]
    },
    {
      "cell_type": "code",
      "source": [
        "# Extracting ImageData for TEST data\n",
        "\n",
        "imageTESTgen = ImageDataGenerator(rescale=(1./255), shear_range=0.2, horizontal_flip=True, zoom_range=0.2)\n",
        "tesing_set = imageTESTgen.flow_from_directory('/content/drive/MyDrive/DataSets/Cat_and_Dog/test',\n",
        "                                              target_size=(64, 64), batch_size=32\n",
        "                                              , class_mode='binary')"
      ],
      "metadata": {
        "id": "yLVlTGb6SGwR",
        "colab": {
          "base_uri": "https://localhost:8080/"
        },
        "outputId": "86d8f0ee-2d3a-4705-b84b-fb48661635b0"
      },
      "execution_count": null,
      "outputs": [
        {
          "output_type": "stream",
          "name": "stdout",
          "text": [
            "Found 140 images belonging to 2 classes.\n"
          ]
        }
      ]
    },
    {
      "cell_type": "markdown",
      "source": [
        "# Building Model"
      ],
      "metadata": {
        "id": "Y64tXkLbCLux"
      }
    },
    {
      "cell_type": "code",
      "source": [
        "# Building neural network blueprint\n",
        "\n",
        "cnn = tf.keras.models.Sequential()"
      ],
      "metadata": {
        "id": "fL7pHGvZCQ_e"
      },
      "execution_count": null,
      "outputs": []
    },
    {
      "cell_type": "markdown",
      "source": [
        "__First Layer__"
      ],
      "metadata": {
        "id": "JxcVHi7tEk4J"
      }
    },
    {
      "cell_type": "code",
      "source": [
        "cnn.add(tf.keras.layers.Conv2D(filters=32, kernel_size=3, activation='relu', input_shape=[64, 64, 3])) # Convol feature layer\n",
        "cnn.add(tf.keras.layers.MaxPool2D(pool_size=2, strides=2))  # pooling layer"
      ],
      "metadata": {
        "id": "0BPwClJL6G_W"
      },
      "execution_count": null,
      "outputs": []
    },
    {
      "cell_type": "markdown",
      "source": [
        "__Second Layer__"
      ],
      "metadata": {
        "id": "7j146YmzHuCw"
      }
    },
    {
      "cell_type": "code",
      "source": [
        "cnn.add(tf.keras.layers.Conv2D(filters=32, kernel_size=3, activation='relu', input_shape=[64, 64, 3]))  # Convol feature layer\n",
        "cnn.add(tf.keras.layers.MaxPool2D(pool_size=2, strides=2))  # pooling layer"
      ],
      "metadata": {
        "id": "sHDj0AvjHlyv"
      },
      "execution_count": null,
      "outputs": []
    },
    {
      "cell_type": "markdown",
      "source": [
        "__Flattening Layer__"
      ],
      "metadata": {
        "id": "OFmoIPqTJba5"
      }
    },
    {
      "cell_type": "code",
      "source": [
        "cnn.add(tf.keras.layers.Flatten())  # Input 1D layer"
      ],
      "metadata": {
        "id": "UVnhYRldI7Z4"
      },
      "execution_count": null,
      "outputs": []
    },
    {
      "cell_type": "markdown",
      "source": [
        "__Creating ANN (Fully Connection) Layer__"
      ],
      "metadata": {
        "id": "GA_XthSCJ0cJ"
      }
    },
    {
      "cell_type": "code",
      "source": [
        "cnn.add(tf.keras.layers.Dense(128, activation='relu'))"
      ],
      "metadata": {
        "id": "H5OqU5gjJytw"
      },
      "execution_count": null,
      "outputs": []
    },
    {
      "cell_type": "markdown",
      "source": [
        "__Output Layer__"
      ],
      "metadata": {
        "id": "tA2ExAa8KnGn"
      }
    },
    {
      "cell_type": "code",
      "source": [
        "cnn.add(tf.keras.layers.Dense(units=1, activation='sigmoid'))"
      ],
      "metadata": {
        "id": "3KbZYhHeKk-c"
      },
      "execution_count": null,
      "outputs": []
    },
    {
      "cell_type": "code",
      "source": [
        "cnn.summary()"
      ],
      "metadata": {
        "colab": {
          "base_uri": "https://localhost:8080/"
        },
        "id": "0myRTKJ1K4xF",
        "outputId": "25a32849-c6d6-4842-bc53-b9994fffd212"
      },
      "execution_count": null,
      "outputs": [
        {
          "output_type": "stream",
          "name": "stdout",
          "text": [
            "Model: \"sequential\"\n",
            "_________________________________________________________________\n",
            " Layer (type)                Output Shape              Param #   \n",
            "=================================================================\n",
            " conv2d (Conv2D)             (None, 62, 62, 32)        896       \n",
            "                                                                 \n",
            " max_pooling2d (MaxPooling2  (None, 31, 31, 32)        0         \n",
            " D)                                                              \n",
            "                                                                 \n",
            " conv2d_1 (Conv2D)           (None, 29, 29, 32)        9248      \n",
            "                                                                 \n",
            " max_pooling2d_1 (MaxPoolin  (None, 14, 14, 32)        0         \n",
            " g2D)                                                            \n",
            "                                                                 \n",
            " flatten (Flatten)           (None, 6272)              0         \n",
            "                                                                 \n",
            " dense (Dense)               (None, 128)               802944    \n",
            "                                                                 \n",
            " dense_1 (Dense)             (None, 1)                 129       \n",
            "                                                                 \n",
            "=================================================================\n",
            "Total params: 813217 (3.10 MB)\n",
            "Trainable params: 813217 (3.10 MB)\n",
            "Non-trainable params: 0 (0.00 Byte)\n",
            "_________________________________________________________________\n"
          ]
        }
      ]
    },
    {
      "cell_type": "markdown",
      "source": [
        "# Training the CNN"
      ],
      "metadata": {
        "id": "xdgtMfOna0vc"
      }
    },
    {
      "cell_type": "code",
      "source": [
        "cnn.compile(optimizer='adam', loss='binary_crossentropy', metrics=['accuracy'])  # Improves model's performance"
      ],
      "metadata": {
        "id": "m9zK7A9WbTL2"
      },
      "execution_count": null,
      "outputs": []
    },
    {
      "cell_type": "code",
      "source": [
        "cnn.fit(x=training_set, validation_data=tesing_set, epochs=25)"
      ],
      "metadata": {
        "colab": {
          "base_uri": "https://localhost:8080/"
        },
        "id": "mRXtN7LjcgiW",
        "outputId": "d96e884e-c57e-4ae9-c896-d1536143917f"
      },
      "execution_count": null,
      "outputs": [
        {
          "output_type": "stream",
          "name": "stdout",
          "text": [
            "Epoch 1/25\n",
            "18/18 [==============================] - 130s 7s/step - loss: 0.7321 - accuracy: 0.5135 - val_loss: 0.6942 - val_accuracy: 0.5000\n",
            "Epoch 2/25\n",
            "18/18 [==============================] - 11s 614ms/step - loss: 0.6924 - accuracy: 0.5224 - val_loss: 0.6938 - val_accuracy: 0.5143\n",
            "Epoch 3/25\n",
            "18/18 [==============================] - 11s 590ms/step - loss: 0.6863 - accuracy: 0.5781 - val_loss: 0.7101 - val_accuracy: 0.5000\n",
            "Epoch 4/25\n",
            "18/18 [==============================] - 11s 613ms/step - loss: 0.6882 - accuracy: 0.5655 - val_loss: 0.6905 - val_accuracy: 0.5071\n",
            "Epoch 5/25\n",
            "18/18 [==============================] - 11s 605ms/step - loss: 0.6830 - accuracy: 0.5745 - val_loss: 0.6780 - val_accuracy: 0.5643\n",
            "Epoch 6/25\n",
            "18/18 [==============================] - 9s 524ms/step - loss: 0.6486 - accuracy: 0.6266 - val_loss: 0.6735 - val_accuracy: 0.5714\n",
            "Epoch 7/25\n",
            "18/18 [==============================] - 11s 605ms/step - loss: 0.6412 - accuracy: 0.6302 - val_loss: 0.6899 - val_accuracy: 0.5786\n",
            "Epoch 8/25\n",
            "18/18 [==============================] - 11s 611ms/step - loss: 0.6179 - accuracy: 0.6445 - val_loss: 0.6746 - val_accuracy: 0.5857\n",
            "Epoch 9/25\n",
            "18/18 [==============================] - 11s 597ms/step - loss: 0.6052 - accuracy: 0.6715 - val_loss: 0.7161 - val_accuracy: 0.5571\n",
            "Epoch 10/25\n",
            "18/18 [==============================] - 11s 606ms/step - loss: 0.6008 - accuracy: 0.6858 - val_loss: 0.7379 - val_accuracy: 0.5786\n",
            "Epoch 11/25\n",
            "18/18 [==============================] - 10s 576ms/step - loss: 0.5598 - accuracy: 0.7217 - val_loss: 0.6850 - val_accuracy: 0.5571\n",
            "Epoch 12/25\n",
            "18/18 [==============================] - 11s 612ms/step - loss: 0.5549 - accuracy: 0.7181 - val_loss: 0.6995 - val_accuracy: 0.5714\n",
            "Epoch 13/25\n",
            "18/18 [==============================] - 11s 607ms/step - loss: 0.5300 - accuracy: 0.7253 - val_loss: 0.6700 - val_accuracy: 0.6357\n",
            "Epoch 14/25\n",
            "18/18 [==============================] - 10s 553ms/step - loss: 0.5206 - accuracy: 0.7271 - val_loss: 0.6782 - val_accuracy: 0.6214\n",
            "Epoch 15/25\n",
            "18/18 [==============================] - 11s 578ms/step - loss: 0.5099 - accuracy: 0.7289 - val_loss: 0.6566 - val_accuracy: 0.6143\n",
            "Epoch 16/25\n",
            "18/18 [==============================] - 11s 616ms/step - loss: 0.4922 - accuracy: 0.7630 - val_loss: 0.7969 - val_accuracy: 0.5857\n",
            "Epoch 17/25\n",
            "18/18 [==============================] - 11s 597ms/step - loss: 0.4844 - accuracy: 0.7415 - val_loss: 0.6223 - val_accuracy: 0.6714\n",
            "Epoch 18/25\n",
            "18/18 [==============================] - 10s 544ms/step - loss: 0.4448 - accuracy: 0.7810 - val_loss: 0.6573 - val_accuracy: 0.6143\n",
            "Epoch 19/25\n",
            "18/18 [==============================] - 11s 615ms/step - loss: 0.4644 - accuracy: 0.7558 - val_loss: 0.6691 - val_accuracy: 0.6214\n",
            "Epoch 20/25\n",
            "18/18 [==============================] - 11s 597ms/step - loss: 0.4613 - accuracy: 0.7648 - val_loss: 0.6317 - val_accuracy: 0.6714\n",
            "Epoch 21/25\n",
            "18/18 [==============================] - 12s 666ms/step - loss: 0.4137 - accuracy: 0.8133 - val_loss: 0.6630 - val_accuracy: 0.6571\n",
            "Epoch 22/25\n",
            "18/18 [==============================] - 11s 624ms/step - loss: 0.3750 - accuracy: 0.8384 - val_loss: 0.7217 - val_accuracy: 0.6286\n",
            "Epoch 23/25\n",
            "18/18 [==============================] - 11s 630ms/step - loss: 0.4335 - accuracy: 0.7935 - val_loss: 0.6521 - val_accuracy: 0.7214\n",
            "Epoch 24/25\n",
            "18/18 [==============================] - 10s 545ms/step - loss: 0.3820 - accuracy: 0.8259 - val_loss: 0.5834 - val_accuracy: 0.7214\n",
            "Epoch 25/25\n",
            "18/18 [==============================] - 11s 611ms/step - loss: 0.3925 - accuracy: 0.8187 - val_loss: 0.6747 - val_accuracy: 0.6500\n"
          ]
        },
        {
          "output_type": "execute_result",
          "data": {
            "text/plain": [
              "<keras.src.callbacks.History at 0x79c76afaabf0>"
            ]
          },
          "metadata": {},
          "execution_count": 12
        }
      ]
    },
    {
      "cell_type": "markdown",
      "source": [
        "# Prediction"
      ],
      "metadata": {
        "id": "BMXsRJ-jh3GW"
      }
    },
    {
      "cell_type": "code",
      "source": [
        "import numpy as np\n",
        "test_imagess = tf.keras.utils.load_img('/content/drive/MyDrive/DataSets/Cat_and_Dog/train/dogs/dog_109.jpg', target_size = (64, 64))\n",
        "test_imagess"
      ],
      "metadata": {
        "colab": {
          "base_uri": "https://localhost:8080/",
          "height": 81
        },
        "id": "4AxIBLlud7Zn",
        "outputId": "cee97143-0ead-4cdd-a60c-b9420a6aaf7e"
      },
      "execution_count": null,
      "outputs": [
        {
          "output_type": "execute_result",
          "data": {
            "text/plain": [
              "<PIL.Image.Image image mode=RGB size=64x64>"
            ],
            "image/png": "[encoded data removed]"
          },
          "metadata": {},
          "execution_count": 93
        }
      ]
    },
    {
      "cell_type": "code",
      "source": [
        "test_imagess = tf.keras.utils.img_to_array(test_imagess)\n",
        "test_imagess"
      ],
      "metadata": {
        "colab": {
          "base_uri": "https://localhost:8080/"
        },
        "id": "PkMNLmjSmlEP",
        "outputId": "68419dc6-83d1-469b-a7da-2b7a282a322d"
      },
      "execution_count": null,
      "outputs": [
        {
          "output_type": "execute_result",
          "data": {
            "text/plain": [
              "array([[[159., 151.,   6.],\n",
              "        [164., 153.,  12.],\n",
              "        [168., 155.,  14.],\n",
              "        ...,\n",
              "        [189., 183.,  25.],\n",
              "        [185., 182.,   9.],\n",
              "        [188., 178.,   3.]],\n",
              "\n",
              "       [[160., 153.,  13.],\n",
              "        [164., 154.,  20.],\n",
              "        [170., 156.,  21.],\n",
              "        ...,\n",
              "        [189., 182.,  32.],\n",
              "        [185., 180.,  18.],\n",
              "        [184., 175.,   8.]],\n",
              "\n",
              "       [[162., 152.,  28.],\n",
              "        [166., 154.,  34.],\n",
              "        [171., 157.,  34.],\n",
              "        ...,\n",
              "        [177., 168.,  31.],\n",
              "        [174., 166.,  21.],\n",
              "        [177., 166.,  16.]],\n",
              "\n",
              "       ...,\n",
              "\n",
              "       [[225., 214.,  98.],\n",
              "        [200., 193.,  50.],\n",
              "        [173., 165.,  28.],\n",
              "        ...,\n",
              "        [138., 134.,   9.],\n",
              "        [149., 138.,  49.],\n",
              "        [149., 138.,  22.]],\n",
              "\n",
              "       [[169., 158.,  32.],\n",
              "        [157., 145.,   7.],\n",
              "        [141., 131.,  10.],\n",
              "        ...,\n",
              "        [181., 178.,  21.],\n",
              "        [189., 185.,  26.],\n",
              "        [228., 219.,  90.]],\n",
              "\n",
              "       [[146., 136.,   2.],\n",
              "        [158., 146.,   8.],\n",
              "        [181., 172.,  41.],\n",
              "        ...,\n",
              "        [188., 184.,   1.],\n",
              "        [216., 206.,  30.],\n",
              "        [223., 211.,  67.]]], dtype=float32)"
            ]
          },
          "metadata": {},
          "execution_count": 94
        }
      ]
    },
    {
      "cell_type": "code",
      "source": [
        "test_imagess.shape"
      ],
      "metadata": {
        "colab": {
          "base_uri": "https://localhost:8080/"
        },
        "id": "Iv6ZULdrnAl-",
        "outputId": "438fe00e-dba0-4699-e28a-d3fb261ab4d1"
      },
      "execution_count": null,
      "outputs": [
        {
          "output_type": "execute_result",
          "data": {
            "text/plain": [
              "(64, 64, 3)"
            ]
          },
          "metadata": {},
          "execution_count": 95
        }
      ]
    },
    {
      "cell_type": "code",
      "source": [
        "test_imagess = np.expand_dims(test_imagess, axis=0)"
      ],
      "metadata": {
        "id": "_q6dY54nn0wi"
      },
      "execution_count": null,
      "outputs": []
    },
    {
      "cell_type": "code",
      "source": [
        "test_images"
      ],
      "metadata": {
        "colab": {
          "base_uri": "https://localhost:8080/"
        },
        "id": "8Ha4F0gJot04",
        "outputId": "8fb55006-8592-4b04-c632-b423856017e5"
      },
      "execution_count": null,
      "outputs": [
        {
          "output_type": "execute_result",
          "data": {
            "text/plain": [
              "array([[[[[[ 69.,  99.,  47.],\n",
              "           [ 69.,  96.,  45.],\n",
              "           [ 64.,  91.,  38.],\n",
              "           ...,\n",
              "           [102., 130.,  72.],\n",
              "           [106., 135.,  79.],\n",
              "           [108., 132.,  84.]],\n",
              "\n",
              "          [[ 67.,  98.,  41.],\n",
              "           [ 69.,  96.,  41.],\n",
              "           [ 63.,  93.,  39.],\n",
              "           ...,\n",
              "           [ 97., 128.,  69.],\n",
              "           [107., 137.,  77.],\n",
              "           [109., 133.,  81.]],\n",
              "\n",
              "          [[ 68.,  97.,  43.],\n",
              "           [ 67.,  96.,  42.],\n",
              "           [ 64.,  93.,  39.],\n",
              "           ...,\n",
              "           [ 97., 126.,  68.],\n",
              "           [107., 137.,  83.],\n",
              "           [111., 138.,  85.]],\n",
              "\n",
              "          ...,\n",
              "\n",
              "          [[210., 214., 217.],\n",
              "           [209., 213., 216.],\n",
              "           [200., 204., 207.],\n",
              "           ...,\n",
              "           [ 47.,  67.,  30.],\n",
              "           [ 49.,  74.,  32.],\n",
              "           [ 49.,  74.,  32.]],\n",
              "\n",
              "          [[204., 204., 204.],\n",
              "           [195., 195., 195.],\n",
              "           [205., 205., 205.],\n",
              "           ...,\n",
              "           [ 47.,  72.,  30.],\n",
              "           [ 50.,  79.,  31.],\n",
              "           [ 50.,  79.,  31.]],\n",
              "\n",
              "          [[182., 183., 178.],\n",
              "           [186., 186., 188.],\n",
              "           [189., 189., 189.],\n",
              "           ...,\n",
              "           [ 46.,  73.,  30.],\n",
              "           [ 54.,  84.,  34.],\n",
              "           [ 53.,  83.,  33.]]]]]], dtype=float32)"
            ]
          },
          "metadata": {},
          "execution_count": 97
        }
      ]
    },
    {
      "cell_type": "code",
      "source": [
        "result = cnn.predict(test_imagess)"
      ],
      "metadata": {
        "colab": {
          "base_uri": "https://localhost:8080/"
        },
        "id": "rsaRNUmpo_Rv",
        "outputId": "b03baa16-e49f-4b8f-b84c-dfc0d7242510"
      },
      "execution_count": null,
      "outputs": [
        {
          "output_type": "stream",
          "name": "stdout",
          "text": [
            "1/1 [==============================] - 0s 23ms/step\n"
          ]
        }
      ]
    },
    {
      "cell_type": "code",
      "source": [
        "if result[0][0] == 1:\n",
        "  print('Dog')\n",
        "elif result[0][0] == 0:\n",
        "  print('Cat')"
      ],
      "metadata": {
        "colab": {
          "base_uri": "https://localhost:8080/"
        },
        "id": "PW6XmgzNpNxO",
        "outputId": "add1d7b6-815d-499a-a76c-662e12ef4338"
      },
      "execution_count": null,
      "outputs": [
        {
          "output_type": "stream",
          "name": "stdout",
          "text": [
            "Dog\n"
          ]
        }
      ]
    },
    {
      "cell_type": "code",
      "source": [],
      "metadata": {
        "id": "iIz1jNHBsTRE"
      },
      "execution_count": null,
      "outputs": []
    }
  ]
}